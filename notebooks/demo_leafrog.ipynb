{
 "cells": [
  {
   "cell_type": "code",
   "execution_count": 1,
   "metadata": {},
   "outputs": [],
   "source": [
    "import jax\n",
    "import jax.numpy as np\n",
    "import flax.linen as nn\n",
    "import optax\n",
    "\n",
    "from typing import Sequence, Callable\n",
    "from functools import partial\n",
    "import tensorflow_probability.substrates.jax as tfp\n",
    "from tqdm import trange\n",
    "\n",
    "tfd = tfp.distributions"
   ]
  },
  {
   "cell_type": "code",
   "execution_count": 2,
   "metadata": {},
   "outputs": [],
   "source": [
    "import diffrax as dfx\n",
    "\n",
    "class MLP(nn.Module):\n",
    "    \"\"\"A simple MLP (fully-connected neural network).\"\"\"\n",
    "\n",
    "    feature_sizes: Sequence[int]\n",
    "    activation: Callable[[np.ndarray], np.ndarray] = nn.elu\n",
    "\n",
    "    @nn.compact\n",
    "    def __call__(self, x, t):\n",
    "        x = np.concatenate([x, t], axis=-1)\n",
    "        for features in self.feature_sizes[:-1]:\n",
    "            x = nn.Dense(features)(x)\n",
    "            x = self.activation(x)\n",
    "        x = nn.Dense(self.feature_sizes[-1])(x)\n",
    "        return x\n",
    "\n",
    "\n",
    "class SymplecticFlow(nn.Module):\n",
    "\n",
    "    def setup(self):\n",
    "        \n",
    "        self.n_leapfrog_steps = 10\n",
    "        self.T = 2.0\n",
    "        self.dt = self.T / self.n_leapfrog_steps\n",
    "        self.potential_func = MLP([128, 128, 1])\n",
    "        self.n_dim = 2\n",
    "\n",
    "    # def leapfrog_step(self, pos, vel, potential_func, dt):\n",
    "    #     \"\"\"\n",
    "    #     Implements a single step of the leapfrog integration method.\n",
    "\n",
    "    #     Args:\n",
    "    #         pos (jax.numpy.ndarray): Array of particle positions. Should be in a length unit.\n",
    "    #         vel (jax.numpy.ndarray): Array of particle velocities.\n",
    "    #         potential_func (function): Function that computes the potential energy of the system.\n",
    "    #         dt (float): Time step size.\n",
    "\n",
    "    #     Returns:\n",
    "    #         Tuple containing the new positions and velocities, and the Jacobian of the transformation.\n",
    "    #     \"\"\"\n",
    "\n",
    "    #     # Compute the gradient of the potential energy function\n",
    "    #     grad_potential = jax.grad(potential_func)\n",
    "\n",
    "    #     # Compute the forces on the particles by evaluating the gradient of the potential energy\n",
    "    #     vel_dot = -grad_potential(pos)\n",
    "\n",
    "    #     # Update the velocities by half a time step\n",
    "    #     vel_half = vel + vel_dot * (dt / 2.0)\n",
    "\n",
    "    #     # Update the positions using the new velocities\n",
    "    #     pos_new = pos + vel_half * dt\n",
    "\n",
    "    #     # Compute the forces on the new positions\n",
    "    #     forces_new = -grad_potential(pos_new)\n",
    "\n",
    "    #     # Update the velocities using the new forces\n",
    "    #     vel_new = vel_half + forces_new * (dt / 2.0)\n",
    "\n",
    "    #     # Return the new positions and velocities, and the updated Jacobian derivatives as a tuple\n",
    "    #     return pos_new, vel_new\n",
    "    \n",
    "    def leapfrog_step(self, pos, vel, potential_func, dt):\n",
    "\n",
    "        grad_potential = jax.grad(potential_func)\n",
    "\n",
    "        w1 = 1 / (2 - 2**(1/3))\n",
    "        w0 = -(2**(1/3)) * w1\n",
    "        w = [w1, w0, w1]\n",
    "        \n",
    "        for wi in w:\n",
    "            vel = vel - wi * dt * grad_potential(pos) / 2\n",
    "            pos = pos + wi * dt * vel\n",
    "            vel = vel - wi * dt * grad_potential(pos) / 2\n",
    "        \n",
    "        return pos, vel\n",
    "\n",
    "    def log_prob(self, xv):\n",
    "\n",
    "        pos, vel = np.split(xv, 2, axis=-1)\n",
    "\n",
    "        # Backward leapfrog integration\n",
    "        for i in range(self.n_leapfrog_steps):\n",
    "            pos, vel = self.leapfrog_step(pos, vel, lambda x: self.potential_func(x, np.atleast_1d(self.T - i * self.dt))[0], -self.dt)\n",
    "\n",
    "        # Base distribution is just a standard normal\n",
    "        # We don't need to worry about det-Jacobian because it's unity for leapfrog\n",
    "        base_dist = tfd.MultivariateNormalDiag(loc=np.zeros_like(xv), scale_diag=np.ones_like(xv))\n",
    "\n",
    "        # Compute log-density\n",
    "        log_prob = base_dist.log_prob(np.concatenate([pos, vel], axis=-1))\n",
    "\n",
    "        return log_prob\n",
    "    \n",
    "    def sample_single(self, key):\n",
    "\n",
    "        key, subkey = jax.random.split(key)\n",
    "        xv = jax.random.normal(subkey, shape=(self.n_dim,))\n",
    "        pos, vel = np.split(xv, 2, axis=-1)\n",
    "        \n",
    "        # Forward leapfrog integration\n",
    "        for i in range(self.n_leapfrog_steps):\n",
    "            pos, vel = self.leapfrog_step(pos, vel, lambda x: self.potential_func(x, np.atleast_1d(i * self.dt))[0], self.dt)\n",
    "\n",
    "        return np.concatenate([pos, vel], axis=-1)\n",
    "\n",
    "    def sample(self, key, n_samples):\n",
    "        sample_key = jax.random.split(key, n_samples ** 2)\n",
    "        return jax.vmap(self.sample_single)(sample_key)\n",
    "    \n",
    "    def __call__(self, x):\n",
    "        return jax.vmap(self.log_prob)(x)"
   ]
  },
  {
   "cell_type": "code",
   "execution_count": 3,
   "metadata": {},
   "outputs": [],
   "source": [
    "flow = SymplecticFlow()\n",
    "xv = jax.random.normal(jax.random.PRNGKey(0), (100, 2))\n",
    "\n",
    "rng = jax.random.PRNGKey(0)\n",
    "log_prob, params = flow.init_with_output(rng, xv)"
   ]
  },
  {
   "cell_type": "code",
   "execution_count": 4,
   "metadata": {},
   "outputs": [
    {
     "data": {
      "text/plain": [
       "Array([-2.4430127, -1.9914838], dtype=float32)"
      ]
     },
     "execution_count": 4,
     "metadata": {},
     "output_type": "execute_result"
    }
   ],
   "source": [
    "# Use sample using apply\n",
    "flow.apply(params, rng, method=flow.sample_single)"
   ]
  },
  {
   "cell_type": "code",
   "execution_count": 5,
   "metadata": {},
   "outputs": [
    {
     "data": {
      "text/plain": [
       "Array([[ 1.4917946, -0.1262246],\n",
       "       [-3.5453026, -1.6295573],\n",
       "       [-1.2191111, -1.6846423],\n",
       "       ...,\n",
       "       [-1.3538303, -2.0491962],\n",
       "       [ 2.460392 ,  0.2392093],\n",
       "       [-3.2506225, -1.5568379]], dtype=float32)"
      ]
     },
     "execution_count": 5,
     "metadata": {},
     "output_type": "execute_result"
    }
   ],
   "source": [
    "# Use sample using apply\n",
    "flow.apply(params, rng, 100, method=flow.sample)"
   ]
  },
  {
   "cell_type": "code",
   "execution_count": 6,
   "metadata": {},
   "outputs": [
    {
     "data": {
      "text/plain": [
       "(-2.0, 2.0)"
      ]
     },
     "execution_count": 6,
     "metadata": {},
     "output_type": "execute_result"
    },
    {
     "data": {
      "image/png": "[encoded data removed]",
      "text/plain": [
       "<Figure size 640x480 with 1 Axes>"
      ]
     },
     "metadata": {},
     "output_type": "display_data"
    }
   ],
   "source": [
    "from sklearn import datasets, preprocessing\n",
    "import matplotlib.pyplot as plt\n",
    "\n",
    "n_samples = 100_000\n",
    "\n",
    "x, _ = datasets.make_moons(n_samples=n_samples, noise=.06)\n",
    "\n",
    "scaler = preprocessing.StandardScaler()\n",
    "x = scaler.fit_transform(x)\n",
    "\n",
    "plt.hist2d(x[:, 0], x[:, 1], bins=100)\n",
    "plt.xlim(-2 ,2)\n",
    "plt.ylim(-2, 2)"
   ]
  },
  {
   "cell_type": "code",
   "execution_count": 7,
   "metadata": {},
   "outputs": [],
   "source": [
    "opt = optax.adamw(learning_rate=6e-4, weight_decay=1e-4)\n",
    "opt_state = opt.init(params)"
   ]
  },
  {
   "cell_type": "code",
   "execution_count": 8,
   "metadata": {},
   "outputs": [],
   "source": [
    "@jax.jit\n",
    "def loss_fn(params, x):\n",
    "    log_prob = flow.apply(params, x)\n",
    "    return -log_prob.mean()"
   ]
  },
  {
   "cell_type": "code",
   "execution_count": 10,
   "metadata": {},
   "outputs": [
    {
     "name": "stderr",
     "output_type": "stream",
     "text": [
      " 86%|████████▌ | 1712/2000 [03:29<00:31,  9.03it/s, val=2.2713938]"
     ]
    }
   ],
   "source": [
    "n_steps = 2000\n",
    "n_batch = 64\n",
    "\n",
    "key = jax.random.PRNGKey(0)\n",
    "\n",
    "with trange(n_steps) as steps:\n",
    "    for step in steps:\n",
    "\n",
    "        # Draw a random batches from x\n",
    "        key, subkey = jax.random.split(key)\n",
    "        idx = jax.random.choice(key, x.shape[0], shape=(n_batch,))\n",
    "        \n",
    "        x_batch = x[idx]\n",
    "        \n",
    "        loss, grads = jax.value_and_grad(loss_fn)(params, x_batch)\n",
    "        updates, opt_state = opt.update(grads, opt_state, params)\n",
    "\n",
    "        params = optax.apply_updates(params, updates)\n",
    "\n",
    "        steps.set_postfix(val=loss)"
   ]
  },
  {
   "cell_type": "code",
   "execution_count": 14,
   "metadata": {},
   "outputs": [],
   "source": [
    "x_sample = flow.apply(params, rng, 300, method=flow.sample)"
   ]
  },
  {
   "cell_type": "code",
   "execution_count": 15,
   "metadata": {},
   "outputs": [
    {
     "data": {
      "text/plain": [
       "Array([[-0.81785774,  1.124572  ],\n",
       "       [-2.299686  ,  0.09397967],\n",
       "       [-2.9192271 , -0.36959982],\n",
       "       ...,\n",
       "       [-0.36339003,  1.6213161 ],\n",
       "       [-1.1077616 ,  0.85509706],\n",
       "       [ 0.6683691 , -1.0303913 ]], dtype=float32)"
      ]
     },
     "execution_count": 15,
     "metadata": {},
     "output_type": "execute_result"
    }
   ],
   "source": [
    "x_sample"
   ]
  },
  {
   "cell_type": "code",
   "execution_count": 16,
   "metadata": {},
   "outputs": [
    {
     "data": {
      "text/plain": [
       "(-2.0, 2.0)"
      ]
     },
     "execution_count": 16,
     "metadata": {},
     "output_type": "execute_result"
    },
    {
     "data": {
      "image/png": "[encoded data removed]",
      "text/plain": [
       "<Figure size 640x480 with 1 Axes>"
      ]
     },
     "metadata": {},
     "output_type": "display_data"
    }
   ],
   "source": [
    "plt.hist2d(x_sample[:, 0], x_sample[:, 1], bins=100);\n",
    "plt.xlim(-2 ,2)\n",
    "plt.ylim(-2, 2)"
   ]
  },
  {
   "cell_type": "code",
   "execution_count": null,
   "metadata": {},
   "outputs": [],
   "source": []
  }
 ],
 "metadata": {
  "kernelspec": {
   "display_name": "Python 3",
   "language": "python",
   "name": "python3"
  },
  "language_info": {
   "codemirror_mode": {
    "name": "ipython",
    "version": 3
   },
   "file_extension": ".py",
   "mimetype": "text/x-python",
   "name": "python",
   "nbconvert_exporter": "python",
   "pygments_lexer": "ipython3",
   "version": "3.9.13"
  },
  "orig_nbformat": 4
 },
 "nbformat": 4,
 "nbformat_minor": 2
}
